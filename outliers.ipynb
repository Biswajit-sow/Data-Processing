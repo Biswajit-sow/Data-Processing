{
 "cells": [
  {
   "cell_type": "markdown",
   "id": "459f4c33",
   "metadata": {},
   "source": [
    "# What is outlier?"
   ]
  },
  {
   "cell_type": "markdown",
   "id": "91b3e6c8",
   "metadata": {},
   "source": [
    "An outlier is a data point in a dataset that is distant from all other observations.A data point that  lies outside the overall distribution of the dataset."
   ]
  },
  {
   "cell_type": "code",
   "execution_count": 2,
   "id": "cf9dbf05",
   "metadata": {},
   "outputs": [],
   "source": [
    "import numpy as np\n",
    "import matplotlib.pyplot as plt\n",
    "%matplotlib inline"
   ]
  },
  {
   "cell_type": "markdown",
   "id": "2e3032d0",
   "metadata": {},
   "source": [
    "What are the creteria to identify an outlier?\n",
    "\n",
    "\n",
    "1.Data point that falls outside of 1.5 times of an interquartile range above the 3rd quartile or below the 1st quartile.\n",
    "\n",
    "\n",
    "2.Data point that falls outside of 3 S.D .we can use a z score and if the z score falls outside of 2 standard deviation "
   ]
  },
  {
   "cell_type": "markdown",
   "id": "56f433ef",
   "metadata": {},
   "source": [
    "What is the reason for an outlier to exists in a dataset?\n",
    "\n",
    "1. Variability in the data\n",
    "\n",
    "2. An experimental measurement error\n",
    "\n",
    "What are the impacts of having outliers in a dataset?\n",
    "\n",
    "1. It causes various problems during our statistical analysis\n",
    "\n",
    "2. It may cause a significant impact on the mean and the standard deviation\n",
    "\n",
    "Various ways of finding the outlier.\n",
    "\n",
    "1. Using scatter plots\n",
    "\n",
    "2. Box plot\n",
    "\n",
    "3. using z score\n",
    "\n",
    "4. using the IQR interquantile range"
   ]
  },
  {
   "cell_type": "code",
   "execution_count": 3,
   "id": "18a6a641",
   "metadata": {},
   "outputs": [],
   "source": [
    "dataset= [11,10,12,14,12,15, 14, 13, 15, 102, 12, 14,17,19,107, 10,13, 12, 14, 12, 108, 12, 11, 14, 13, 15, 10, 15, 12, 14]"
   ]
  },
  {
   "cell_type": "markdown",
   "id": "c1f29536",
   "metadata": {},
   "source": [
    " # Detecting outlier using Z score\n",
    "\n",
    "Using Z score\n",
    "\n",
    "Formula for Z score = (Observation - Mean)/Standard Deviation\n",
    "\n",
    "z = (Χ-μ) / σ"
   ]
  },
  {
   "cell_type": "markdown",
   "id": "c717136a",
   "metadata": {},
   "source": [
    "What is Threshold?\n",
    "Definition:\n",
    "A threshold is a fixed value used as a cutoff point to make decisions or classifications in data analysis, signal processing, machine learning, or statistics.\n",
    "\n",
    "In simple terms:\n",
    "It divides values into two or more categories based on whether they are above or below that value."
   ]
  },
  {
   "cell_type": "code",
   "execution_count": 4,
   "id": "16cd864c",
   "metadata": {},
   "outputs": [],
   "source": [
    "outliers=[]\n",
    "def detect_outliers(data):\n",
    "    threshold=3\n",
    "    mean=np.mean(data)\n",
    "    std=np.std(data)\n",
    "\n",
    "    for i in data:\n",
    "        z_score= (i - mean)/std\n",
    "        if np.abs(z_score)>threshold:\n",
    "            outliers.append(i)\n",
    "    return outliers \n",
    "#np.abs() is a NumPy function used to calculate the absolute value element-wise of each element in a NumPy array or number."
   ]
  },
  {
   "cell_type": "code",
   "execution_count": 5,
   "id": "31af7237",
   "metadata": {},
   "outputs": [
    {
     "data": {
      "text/plain": [
       "[107, 108]"
      ]
     },
     "execution_count": 5,
     "metadata": {},
     "output_type": "execute_result"
    }
   ],
   "source": [
    "outlier_find=detect_outliers(dataset)\n",
    "outlier_find"
   ]
  },
  {
   "cell_type": "markdown",
   "id": "dd2e92e2",
   "metadata": {},
   "source": [
    "# InterQuantile Range-2nd way\n",
    "\n",
    "75%-25% values in a dataset\n",
    "\n",
    "Steps\n",
    "\n",
    "1. Arrange the data in increasing order\n",
    "\n",
    "2. Calculate first(q1) and third quartile(q3)\n",
    "\n",
    "3. Find interquartile range (q3-q1)\n",
    "\n",
    "4.Find lower bound q1*1.5\n",
    "\n",
    "5.Find upper bound q3*1.5\n",
    "\n",
    "Anything that lies outside of lower and upper bound is an outlier"
   ]
  },
  {
   "cell_type": "code",
   "execution_count": 6,
   "id": "48442702",
   "metadata": {},
   "outputs": [
    {
     "data": {
      "text/plain": [
       "[10,\n",
       " 10,\n",
       " 10,\n",
       " 11,\n",
       " 11,\n",
       " 12,\n",
       " 12,\n",
       " 12,\n",
       " 12,\n",
       " 12,\n",
       " 12,\n",
       " 12,\n",
       " 13,\n",
       " 13,\n",
       " 13,\n",
       " 14,\n",
       " 14,\n",
       " 14,\n",
       " 14,\n",
       " 14,\n",
       " 14,\n",
       " 15,\n",
       " 15,\n",
       " 15,\n",
       " 15,\n",
       " 17,\n",
       " 19,\n",
       " 102,\n",
       " 107,\n",
       " 108]"
      ]
     },
     "execution_count": 6,
     "metadata": {},
     "output_type": "execute_result"
    }
   ],
   "source": [
    "##perform all the steps  of IQR\n",
    "sorted(dataset)"
   ]
  },
  {
   "cell_type": "code",
   "execution_count": 7,
   "id": "b7e5808b",
   "metadata": {},
   "outputs": [],
   "source": [
    "quantile1,quantile3=np.percentile(dataset,[25,75])"
   ]
  },
  {
   "cell_type": "code",
   "execution_count": null,
   "id": "8d4105b6",
   "metadata": {},
   "outputs": [
    {
     "name": "stdout",
     "output_type": "stream",
     "text": [
      "12.0 15.0\n"
     ]
    }
   ],
   "source": [
    "print(quantile1,quantile3) "
   ]
  },
  {
   "cell_type": "code",
   "execution_count": 10,
   "id": "341e5e34",
   "metadata": {},
   "outputs": [
    {
     "name": "stdout",
     "output_type": "stream",
     "text": [
      "IQR value is:  3.0\n"
     ]
    }
   ],
   "source": [
    "#find the IQR value \n",
    "IQR_value=quantile3-quantile1\n",
    "print(\"IQR value is: \", IQR_value)"
   ]
  },
  {
   "cell_type": "code",
   "execution_count": 11,
   "id": "1078827d",
   "metadata": {},
   "outputs": [],
   "source": [
    "#find the lower bound and upper bound value \n",
    "lower_bound_val=quantile1-(1.5*IQR_value)\n",
    "upper_bound_val=quantile3+(1.5*IQR_value)"
   ]
  },
  {
   "cell_type": "code",
   "execution_count": 12,
   "id": "dc79089e",
   "metadata": {},
   "outputs": [
    {
     "name": "stdout",
     "output_type": "stream",
     "text": [
      "7.5 19.5\n"
     ]
    }
   ],
   "source": [
    "print(lower_bound_val,upper_bound_val)"
   ]
  },
  {
   "cell_type": "markdown",
   "id": "9742eba6",
   "metadata": {},
   "source": [
    "if any value is away from the bounds then it is outlier"
   ]
  }
 ],
 "metadata": {
  "kernelspec": {
   "display_name": "Python 3",
   "language": "python",
   "name": "python3"
  },
  "language_info": {
   "codemirror_mode": {
    "name": "ipython",
    "version": 3
   },
   "file_extension": ".py",
   "mimetype": "text/x-python",
   "name": "python",
   "nbconvert_exporter": "python",
   "pygments_lexer": "ipython3",
   "version": "3.10.0"
  }
 },
 "nbformat": 4,
 "nbformat_minor": 5
}
