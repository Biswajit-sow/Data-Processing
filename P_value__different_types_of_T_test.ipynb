{
  "nbformat": 4,
  "nbformat_minor": 0,
  "metadata": {
    "colab": {
      "provenance": []
    },
    "kernelspec": {
      "name": "python3",
      "display_name": "Python 3"
    },
    "language_info": {
      "name": "python"
    }
  },
  "cells": [
    {
      "cell_type": "markdown",
      "source": [
        "# T Test\n",
        "\n",
        "A t-test is a type of inferential statistic which is used to determine if there is a significant difference  between the means of two groups which may be related in certain features\n",
        "\n",
        "T-test has 2 types :\n",
        "\n",
        "1.one sample t test\n",
        "\n",
        "2.Two-sample -t test\n",
        "\n"
      ],
      "metadata": {
        "id": "Ie_Eh3Is2G0X"
      }
    },
    {
      "cell_type": "markdown",
      "source": [
        "# One sample T-test with Python\n",
        "the test will tell us wheather means of the sample and the population are different\n",
        "\n",
        "Is there any difference between sample mean and population mean !!\n",
        "\n",
        "here create a alternate hypothesis ,alternate hypothesis(H1) says that there is a differenee and the null hypothesis(H0) says that there is no differenece .now we use one sample T test to compute P value .if P value is less then 0.05 then reject the H0 and accepet the H1\n",
        "\n",
        "\n",
        "t = (sample_mean - population_mean) / (standard_deviation / sqrt(sample_size)\n"
      ],
      "metadata": {
        "id": "Y40f2l1P3Iuq"
      }
    },
    {
      "cell_type": "code",
      "source": [
        "ages=[10, 20, 35,50, 28, 40, 55, 18, 16,55, 30,25,43, 18, 30, 28, 14, 24, 16, 17, 32, 35, 26,27,65,18,43,23,21,20,19,70]"
      ],
      "metadata": {
        "id": "mhPT2hgb622U"
      },
      "execution_count": null,
      "outputs": []
    },
    {
      "cell_type": "code",
      "source": [
        "len(ages)"
      ],
      "metadata": {
        "colab": {
          "base_uri": "https://localhost:8080/"
        },
        "id": "Bw6b0JuH7jGJ",
        "outputId": "650a82e9-3be5-44b6-9b04-96979aefa40d"
      },
      "execution_count": null,
      "outputs": [
        {
          "output_type": "execute_result",
          "data": {
            "text/plain": [
              "32"
            ]
          },
          "metadata": {},
          "execution_count": 2
        }
      ]
    },
    {
      "cell_type": "code",
      "source": [
        "import numpy as np\n",
        "ages_mean = np.mean(ages)#population mean\n",
        "print(ages_mean)"
      ],
      "metadata": {
        "colab": {
          "base_uri": "https://localhost:8080/"
        },
        "id": "yKUaqStJ9CJk",
        "outputId": "8b1b90e9-5869-49fd-ff3e-9c3565a508b1"
      },
      "execution_count": null,
      "outputs": [
        {
          "output_type": "stream",
          "name": "stdout",
          "text": [
            "30.34375\n"
          ]
        }
      ]
    },
    {
      "cell_type": "code",
      "source": [
        "#let's take sample\n",
        "sample_size=10\n",
        "age_sample=np.random.choice(ages,sample_size)"
      ],
      "metadata": {
        "id": "kFGBT5Tk9HRl"
      },
      "execution_count": null,
      "outputs": []
    },
    {
      "cell_type": "code",
      "source": [
        "age_sample"
      ],
      "metadata": {
        "colab": {
          "base_uri": "https://localhost:8080/"
        },
        "id": "ZWM846mp9ndq",
        "outputId": "be9caf73-ef4f-44f6-eff0-596617c0c66a"
      },
      "execution_count": null,
      "outputs": [
        {
          "output_type": "execute_result",
          "data": {
            "text/plain": [
              "array([27, 25, 27, 18, 28, 21, 55, 18, 50, 18])"
            ]
          },
          "metadata": {},
          "execution_count": 5
        }
      ]
    },
    {
      "cell_type": "code",
      "source": [
        "from scipy.stats import ttest_1samp\n",
        "ttest,p_value=ttest_1samp(age_sample,30)#30 means - compute wheather the age sample is base on population mean,wheather the value is 30 which I am conxsider in my population mean or wheather is not not 30 ,if it is 30 then there is no difference between sample and population mean-consider that it is H0 or null hypothesis and not 30 there is a difference -consider this H1 or alternate hypothesis"
      ],
      "metadata": {
        "id": "UF1mSfNDBa6x"
      },
      "execution_count": null,
      "outputs": []
    },
    {
      "cell_type": "code",
      "source": [
        "print(p_value)"
      ],
      "metadata": {
        "colab": {
          "base_uri": "https://localhost:8080/"
        },
        "id": "j2Mo0atk95IB",
        "outputId": "30f8c6a4-8db7-4e7c-802d-f5ff40e8bd31"
      },
      "execution_count": null,
      "outputs": [
        {
          "output_type": "stream",
          "name": "stdout",
          "text": [
            "0.7625577277437112\n"
          ]
        }
      ]
    },
    {
      "cell_type": "code",
      "source": [
        "if p_value < 0.05: # alpha value is 0.05 or 5%\n",
        "    print(\"we are rejecting null hypothesis so there is difinetly a difference between sample and population mean \")\n",
        "else:\n",
        "    print(\"we are accepting null hypothesis so there is difinetly no  difference between sample and population mean \")"
      ],
      "metadata": {
        "colab": {
          "base_uri": "https://localhost:8080/"
        },
        "id": "eZVs3Z64DatJ",
        "outputId": "48357d19-d5a5-43d9-f78d-341e3feb81c4"
      },
      "execution_count": null,
      "outputs": [
        {
          "output_type": "stream",
          "name": "stdout",
          "text": [
            "we are accepting null hypothesis so there is difinetly no  difference between sample and population mean \n"
          ]
        }
      ]
    },
    {
      "cell_type": "code",
      "source": [],
      "metadata": {
        "id": "_C4oKHp9Fzfk"
      },
      "execution_count": null,
      "outputs": []
    },
    {
      "cell_type": "markdown",
      "source": [
        "# Some more example\n",
        "Consider the age of students in a collage and In class A"
      ],
      "metadata": {
        "id": "Jh9asMgMF6C7"
      }
    },
    {
      "cell_type": "code",
      "source": [
        "import numpy as np\n",
        "import pandas as pd\n",
        "import scipy.stats as stats\n",
        "import math\n",
        "np.random.seed(6)\n",
        "school_ages=stats.poisson.rvs(loc=18,mu=35,size=1500)\n",
        "classA_ages=stats.poisson.rvs(loc=18,mu=30,size=60)\n",
        "\n",
        "\n",
        "#np.random.seed(6)\n",
        "#✅ Why? Fixes the random number generation so that every time you run the code, you get the same output. Useful for reproducibility of experiments."
      ],
      "metadata": {
        "id": "fDb7Gw_ZGOAn"
      },
      "execution_count": null,
      "outputs": []
    },
    {
      "cell_type": "markdown",
      "source": [
        "school_ages = stats.poisson.rvs(loc=18, mu=35, size=1500)\n",
        "\n",
        "✅ What it does: Creates a simulated population of 1500 students’ ages using a Poisson distribution with:\n",
        "\n",
        "mu=35 (mean)\n",
        "\n",
        "loc=18 (shifts distribution to start from 18)\n",
        "\n",
        "So the actual mean is around 18 + 35 = 53 years.\n",
        "\n",
        "\n",
        "\n",
        "\n",
        "\n",
        "classA_ages = stats.poisson.rvs(loc=18, mu=30, size=60)\n",
        "\n",
        "\n",
        "✅ What it does: Simulates sample data (e.g., ages of students in Class A) using a slightly different distribution:\n",
        "\n",
        "mu=30, loc=18 → mean ≈ 48 years\n",
        "\n",
        "Size = 60 students\n",
        "\n",
        "✅ Why? This is the group you want to compare to the school average.\n",
        "\n"
      ],
      "metadata": {
        "id": "dw7h7yelw9N-"
      }
    },
    {
      "cell_type": "code",
      "source": [
        "school_ages.mean() #population mean"
      ],
      "metadata": {
        "colab": {
          "base_uri": "https://localhost:8080/"
        },
        "id": "8HrzCGa51TIx",
        "outputId": "6a1a0985-7b81-4d17-9298-e406c223e729"
      },
      "execution_count": null,
      "outputs": [
        {
          "output_type": "execute_result",
          "data": {
            "text/plain": [
              "np.float64(53.303333333333335)"
            ]
          },
          "metadata": {},
          "execution_count": 20
        }
      ]
    },
    {
      "cell_type": "code",
      "source": [
        "_,p_value=stats.ttest_1samp(a=classA_ages,popmean=school_ages.mean())"
      ],
      "metadata": {
        "id": "7azpNNt1rapK"
      },
      "execution_count": null,
      "outputs": []
    },
    {
      "cell_type": "markdown",
      "source": [
        " p_value = stats.ttest_1samp(a=classA_ages, popmean=school_ages.mean())\n",
        "\n",
        "✅ What it does:\n",
        "\n",
        "Performs a one-sample t-test to check if the mean of classA_ages is statistically different from the mean of school_ages.\n",
        "\n",
        "a=classA_ages: sample data\n",
        "\n",
        "popmean=school_ages.mean(): population mean\n",
        "\n",
        "_ stores the t-statistic (not used), p_value stores the p-value."
      ],
      "metadata": {
        "id": "BYw6UB4xxhYZ"
      }
    },
    {
      "cell_type": "code",
      "source": [
        "p_value"
      ],
      "metadata": {
        "colab": {
          "base_uri": "https://localhost:8080/"
        },
        "id": "j6xzFnh1r1Qn",
        "outputId": "2b32fa38-0f06-4c0f-932a-07da84d8ed32"
      },
      "execution_count": null,
      "outputs": [
        {
          "output_type": "execute_result",
          "data": {
            "text/plain": [
              "np.float64(1.139027071016194e-13)"
            ]
          },
          "metadata": {},
          "execution_count": 17
        }
      ]
    },
    {
      "cell_type": "code",
      "source": [
        "#classA_ages.mean() # sample mean------optional code"
      ],
      "metadata": {
        "colab": {
          "base_uri": "https://localhost:8080/"
        },
        "id": "gzVgCi6zrfeG",
        "outputId": "e49d7863-6466-4baa-d252-a891e07e7440"
      },
      "execution_count": null,
      "outputs": [
        {
          "output_type": "execute_result",
          "data": {
            "text/plain": [
              "np.float64(53.303333333333335)"
            ]
          },
          "metadata": {},
          "execution_count": 18
        }
      ]
    },
    {
      "cell_type": "code",
      "source": [
        "if p_value< 0.05:\n",
        "  print(\"we are rejecting null hypothesis\")\n",
        "else:\n",
        "  print(\"we are accepting null hypothesis\")"
      ],
      "metadata": {
        "colab": {
          "base_uri": "https://localhost:8080/"
        },
        "id": "zcH5uLVNrmtk",
        "outputId": "ba1af20d-3e1d-43a9-ffa9-1eb457bb35b5"
      },
      "execution_count": null,
      "outputs": [
        {
          "output_type": "stream",
          "name": "stdout",
          "text": [
            "we are rejecting null hypothesis\n"
          ]
        }
      ]
    },
    {
      "cell_type": "markdown",
      "source": [
        "This code simulates a school-wide age distribution and compares it to a sample class’s age distribution using a one-sample t-test to see if the class differs significantly from the school."
      ],
      "metadata": {
        "id": "gZOi_AlnyWSp"
      }
    },
    {
      "cell_type": "markdown",
      "source": [
        "# Two-sample T-test With Python\n",
        "\n",
        "The Independent Samples t Test or 2-sample t-test compares the means of two independent groups in order to determine whether there is statistical evidence that the associated population means are significantly different. The Independent Samples t Test is a parametric test. This test is also known as: Independent t Test.\n",
        "\n",
        "t = (x̄₁ - x̄₂) / √(s₁²/n₁ + s₂²/n₂)\n",
        "Where:\n",
        "t: is the t-statistic.\n",
        "x̄₁: and x̄₂ are the sample means of the two groups.\n",
        "s₁²: and s₂² are the sample variances of the two groups.\n",
        "n₁: and n₂ are the sample sizes of the two groups.\n",
        "\n",
        "\n",
        "It checks whether there is a difference between two sample groups or not."
      ],
      "metadata": {
        "id": "kBlATgqdzN-Y"
      }
    },
    {
      "cell_type": "code",
      "source": [
        "np.random.seed(12)\n",
        "classB_ages=stats.poisson.rvs(loc=18,mu=33,size=60)\n",
        "classB_ages.mean()"
      ],
      "metadata": {
        "colab": {
          "base_uri": "https://localhost:8080/"
        },
        "id": "Tdj2CA7FzJfd",
        "outputId": "7a6ebbf5-3155-4d6e-cd06-d128e629a849"
      },
      "execution_count": null,
      "outputs": [
        {
          "output_type": "execute_result",
          "data": {
            "text/plain": [
              "np.float64(50.63333333333333)"
            ]
          },
          "metadata": {},
          "execution_count": 24
        }
      ]
    },
    {
      "cell_type": "code",
      "source": [
        "_,P_value=stats.ttest_ind(a=classA_ages,b=classB_ages,equal_var=False)"
      ],
      "metadata": {
        "id": "Gd52LpnW1yKI"
      },
      "execution_count": null,
      "outputs": []
    },
    {
      "cell_type": "markdown",
      "source": [
        "What does equal_var=False mean?\n",
        "\n",
        "It tells Python not to assume that the two groups (Class A and Class B) have equal variances.\n",
        "\n"
      ],
      "metadata": {
        "id": "WPU3Fdwv3jOa"
      }
    },
    {
      "cell_type": "code",
      "source": [
        "if P_value < 0.05: # alpha value is 0.05 or 5%\n",
        "    print(\"we are rejecting null hypothesis so there is difinetly a difference between sample and population mean \")\n",
        "else:\n",
        "    print(\"we are accepting null hypothesis so there is difinetly no  difference between sample and population mean \")"
      ],
      "metadata": {
        "colab": {
          "base_uri": "https://localhost:8080/"
        },
        "id": "_aYeM04z24zw",
        "outputId": "f4e2a2f3-15f9-4927-86b3-160f2df1fc01"
      },
      "execution_count": null,
      "outputs": [
        {
          "output_type": "stream",
          "name": "stdout",
          "text": [
            "we are rejecting null hypothesis so there is difinetly a difference between sample and population mean \n"
          ]
        }
      ]
    },
    {
      "cell_type": "markdown",
      "source": [
        "# Paired T-test with Python\n",
        "\n",
        "hen you want to check how different samples from the same group are, you can go for a paired T-test"
      ],
      "metadata": {
        "id": "zlW-5WP95OYa"
      }
    },
    {
      "cell_type": "code",
      "source": [
        "weight1=[25,30,28,35,28,34,26,29,25,36,31,30,45,50,42]\n",
        "weight2=np.array(weight1)+stats.norm.rvs(scale=5,loc=-1.25,size=15)"
      ],
      "metadata": {
        "id": "GhLvOjhj67Kb"
      },
      "execution_count": null,
      "outputs": []
    },
    {
      "cell_type": "markdown",
      "source": [
        "This generates 15 random values from a normal distribution, with:\n",
        "\n",
        "loc = -1.25 → the mean of the distribution is -1.25\n",
        "\n",
        "scale = 5 → the standard deviation is 5 (controls spread)\n",
        "\n",
        "size = 15 → we generate 15 random values\n",
        "\n",
        "So this line creates 15 small random variations centered around -1.25 (some negative, some positive, but mostly lowering the original values slightly)."
      ],
      "metadata": {
        "id": "P0lUEwT79fto"
      }
    },
    {
      "cell_type": "code",
      "source": [
        "print(weight1)\n",
        "print(weight2)"
      ],
      "metadata": {
        "colab": {
          "base_uri": "https://localhost:8080/"
        },
        "id": "Usnw-5EC7qpp",
        "outputId": "7e2565cf-43f9-4054-972c-fcafc49f865e"
      },
      "execution_count": null,
      "outputs": [
        {
          "output_type": "stream",
          "name": "stdout",
          "text": [
            "[25, 30, 28, 35, 28, 34, 26, 29, 25, 36, 31, 30, 45, 50, 42]\n",
            "[16.1845637  24.93234756 27.99601605 25.80095696 21.85237039 33.36380814\n",
            " 33.19646047 28.63874933 23.9100301  44.41607782 24.43952644 25.08685451\n",
            " 47.96370697 54.13369994 43.03845269]\n"
          ]
        }
      ]
    },
    {
      "cell_type": "code",
      "source": [
        "weight_df=pd.DataFrame({\"weight_1\":np.array(weight1),\n",
        "                        \"weight_2\":np.array(weight2),\n",
        "                        \"weight_change\":np.array(weight2)-np.array(weight1)})"
      ],
      "metadata": {
        "id": "LlDIILmP7tHO"
      },
      "execution_count": null,
      "outputs": []
    },
    {
      "cell_type": "code",
      "source": [
        "weight_df"
      ],
      "metadata": {
        "colab": {
          "base_uri": "https://localhost:8080/",
          "height": 519
        },
        "id": "Yxbj439Q8eh0",
        "outputId": "c8ce7d4e-c024-42d6-b91e-99deaf9fa04b"
      },
      "execution_count": null,
      "outputs": [
        {
          "output_type": "execute_result",
          "data": {
            "text/plain": [
              "    weight_1   weight_2  weight_change\n",
              "0         25  30.579265       5.579265\n",
              "1         30  34.910224       4.910224\n",
              "2         28  29.004446       1.004446\n",
              "3         35  30.542951      -4.457049\n",
              "4         28  19.862020      -8.137980\n",
              "5         34  37.578732       3.578732\n",
              "6         26  18.329983      -7.670017\n",
              "7         29  21.377139      -7.622861\n",
              "8         25  31.364209       6.364209\n",
              "9         36  42.059412       6.059412\n",
              "10        31  29.938280      -1.061720\n",
              "11        30  27.519014      -2.480986\n",
              "12        45  40.428512      -4.571488\n",
              "13        50  50.506678       0.506678\n",
              "14        42  38.329843      -3.670157"
            ],
            "text/html": [
              "\n",
              "  <div id=\"df-418ddf17-87a3-4007-99f9-9bc81521263b\" class=\"colab-df-container\">\n",
              "    <div>\n",
              "<style scoped>\n",
              "    .dataframe tbody tr th:only-of-type {\n",
              "        vertical-align: middle;\n",
              "    }\n",
              "\n",
              "    .dataframe tbody tr th {\n",
              "        vertical-align: top;\n",
              "    }\n",
              "\n",
              "    .dataframe thead th {\n",
              "        text-align: right;\n",
              "    }\n",
              "</style>\n",
              "<table border=\"1\" class=\"dataframe\">\n",
              "  <thead>\n",
              "    <tr style=\"text-align: right;\">\n",
              "      <th></th>\n",
              "      <th>weight_1</th>\n",
              "      <th>weight_2</th>\n",
              "      <th>weight_change</th>\n",
              "    </tr>\n",
              "  </thead>\n",
              "  <tbody>\n",
              "    <tr>\n",
              "      <th>0</th>\n",
              "      <td>25</td>\n",
              "      <td>30.579265</td>\n",
              "      <td>5.579265</td>\n",
              "    </tr>\n",
              "    <tr>\n",
              "      <th>1</th>\n",
              "      <td>30</td>\n",
              "      <td>34.910224</td>\n",
              "      <td>4.910224</td>\n",
              "    </tr>\n",
              "    <tr>\n",
              "      <th>2</th>\n",
              "      <td>28</td>\n",
              "      <td>29.004446</td>\n",
              "      <td>1.004446</td>\n",
              "    </tr>\n",
              "    <tr>\n",
              "      <th>3</th>\n",
              "      <td>35</td>\n",
              "      <td>30.542951</td>\n",
              "      <td>-4.457049</td>\n",
              "    </tr>\n",
              "    <tr>\n",
              "      <th>4</th>\n",
              "      <td>28</td>\n",
              "      <td>19.862020</td>\n",
              "      <td>-8.137980</td>\n",
              "    </tr>\n",
              "    <tr>\n",
              "      <th>5</th>\n",
              "      <td>34</td>\n",
              "      <td>37.578732</td>\n",
              "      <td>3.578732</td>\n",
              "    </tr>\n",
              "    <tr>\n",
              "      <th>6</th>\n",
              "      <td>26</td>\n",
              "      <td>18.329983</td>\n",
              "      <td>-7.670017</td>\n",
              "    </tr>\n",
              "    <tr>\n",
              "      <th>7</th>\n",
              "      <td>29</td>\n",
              "      <td>21.377139</td>\n",
              "      <td>-7.622861</td>\n",
              "    </tr>\n",
              "    <tr>\n",
              "      <th>8</th>\n",
              "      <td>25</td>\n",
              "      <td>31.364209</td>\n",
              "      <td>6.364209</td>\n",
              "    </tr>\n",
              "    <tr>\n",
              "      <th>9</th>\n",
              "      <td>36</td>\n",
              "      <td>42.059412</td>\n",
              "      <td>6.059412</td>\n",
              "    </tr>\n",
              "    <tr>\n",
              "      <th>10</th>\n",
              "      <td>31</td>\n",
              "      <td>29.938280</td>\n",
              "      <td>-1.061720</td>\n",
              "    </tr>\n",
              "    <tr>\n",
              "      <th>11</th>\n",
              "      <td>30</td>\n",
              "      <td>27.519014</td>\n",
              "      <td>-2.480986</td>\n",
              "    </tr>\n",
              "    <tr>\n",
              "      <th>12</th>\n",
              "      <td>45</td>\n",
              "      <td>40.428512</td>\n",
              "      <td>-4.571488</td>\n",
              "    </tr>\n",
              "    <tr>\n",
              "      <th>13</th>\n",
              "      <td>50</td>\n",
              "      <td>50.506678</td>\n",
              "      <td>0.506678</td>\n",
              "    </tr>\n",
              "    <tr>\n",
              "      <th>14</th>\n",
              "      <td>42</td>\n",
              "      <td>38.329843</td>\n",
              "      <td>-3.670157</td>\n",
              "    </tr>\n",
              "  </tbody>\n",
              "</table>\n",
              "</div>\n",
              "    <div class=\"colab-df-buttons\">\n",
              "\n",
              "  <div class=\"colab-df-container\">\n",
              "    <button class=\"colab-df-convert\" onclick=\"convertToInteractive('df-418ddf17-87a3-4007-99f9-9bc81521263b')\"\n",
              "            title=\"Convert this dataframe to an interactive table.\"\n",
              "            style=\"display:none;\">\n",
              "\n",
              "  <svg xmlns=\"http://www.w3.org/2000/svg\" height=\"24px\" viewBox=\"0 -960 960 960\">\n",
              "    <path d=\"M120-120v-720h720v720H120Zm60-500h600v-160H180v160Zm220 220h160v-160H400v160Zm0 220h160v-160H400v160ZM180-400h160v-160H180v160Zm440 0h160v-160H620v160ZM180-180h160v-160H180v160Zm440 0h160v-160H620v160Z\"/>\n",
              "  </svg>\n",
              "    </button>\n",
              "\n",
              "  <style>\n",
              "    .colab-df-container {\n",
              "      display:flex;\n",
              "      gap: 12px;\n",
              "    }\n",
              "\n",
              "    .colab-df-convert {\n",
              "      background-color: #E8F0FE;\n",
              "      border: none;\n",
              "      border-radius: 50%;\n",
              "      cursor: pointer;\n",
              "      display: none;\n",
              "      fill: #1967D2;\n",
              "      height: 32px;\n",
              "      padding: 0 0 0 0;\n",
              "      width: 32px;\n",
              "    }\n",
              "\n",
              "    .colab-df-convert:hover {\n",
              "      background-color: #E2EBFA;\n",
              "      box-shadow: 0px 1px 2px rgba(60, 64, 67, 0.3), 0px 1px 3px 1px rgba(60, 64, 67, 0.15);\n",
              "      fill: #174EA6;\n",
              "    }\n",
              "\n",
              "    .colab-df-buttons div {\n",
              "      margin-bottom: 4px;\n",
              "    }\n",
              "\n",
              "    [theme=dark] .colab-df-convert {\n",
              "      background-color: #3B4455;\n",
              "      fill: #D2E3FC;\n",
              "    }\n",
              "\n",
              "    [theme=dark] .colab-df-convert:hover {\n",
              "      background-color: #434B5C;\n",
              "      box-shadow: 0px 1px 3px 1px rgba(0, 0, 0, 0.15);\n",
              "      filter: drop-shadow(0px 1px 2px rgba(0, 0, 0, 0.3));\n",
              "      fill: #FFFFFF;\n",
              "    }\n",
              "  </style>\n",
              "\n",
              "    <script>\n",
              "      const buttonEl =\n",
              "        document.querySelector('#df-418ddf17-87a3-4007-99f9-9bc81521263b button.colab-df-convert');\n",
              "      buttonEl.style.display =\n",
              "        google.colab.kernel.accessAllowed ? 'block' : 'none';\n",
              "\n",
              "      async function convertToInteractive(key) {\n",
              "        const element = document.querySelector('#df-418ddf17-87a3-4007-99f9-9bc81521263b');\n",
              "        const dataTable =\n",
              "          await google.colab.kernel.invokeFunction('convertToInteractive',\n",
              "                                                    [key], {});\n",
              "        if (!dataTable) return;\n",
              "\n",
              "        const docLinkHtml = 'Like what you see? Visit the ' +\n",
              "          '<a target=\"_blank\" href=https://colab.research.google.com/notebooks/data_table.ipynb>data table notebook</a>'\n",
              "          + ' to learn more about interactive tables.';\n",
              "        element.innerHTML = '';\n",
              "        dataTable['output_type'] = 'display_data';\n",
              "        await google.colab.output.renderOutput(dataTable, element);\n",
              "        const docLink = document.createElement('div');\n",
              "        docLink.innerHTML = docLinkHtml;\n",
              "        element.appendChild(docLink);\n",
              "      }\n",
              "    </script>\n",
              "  </div>\n",
              "\n",
              "\n",
              "    <div id=\"df-89cf0145-f8ce-433a-a6c3-6d419e5000c8\">\n",
              "      <button class=\"colab-df-quickchart\" onclick=\"quickchart('df-89cf0145-f8ce-433a-a6c3-6d419e5000c8')\"\n",
              "                title=\"Suggest charts\"\n",
              "                style=\"display:none;\">\n",
              "\n",
              "<svg xmlns=\"http://www.w3.org/2000/svg\" height=\"24px\"viewBox=\"0 0 24 24\"\n",
              "     width=\"24px\">\n",
              "    <g>\n",
              "        <path d=\"M19 3H5c-1.1 0-2 .9-2 2v14c0 1.1.9 2 2 2h14c1.1 0 2-.9 2-2V5c0-1.1-.9-2-2-2zM9 17H7v-7h2v7zm4 0h-2V7h2v10zm4 0h-2v-4h2v4z\"/>\n",
              "    </g>\n",
              "</svg>\n",
              "      </button>\n",
              "\n",
              "<style>\n",
              "  .colab-df-quickchart {\n",
              "      --bg-color: #E8F0FE;\n",
              "      --fill-color: #1967D2;\n",
              "      --hover-bg-color: #E2EBFA;\n",
              "      --hover-fill-color: #174EA6;\n",
              "      --disabled-fill-color: #AAA;\n",
              "      --disabled-bg-color: #DDD;\n",
              "  }\n",
              "\n",
              "  [theme=dark] .colab-df-quickchart {\n",
              "      --bg-color: #3B4455;\n",
              "      --fill-color: #D2E3FC;\n",
              "      --hover-bg-color: #434B5C;\n",
              "      --hover-fill-color: #FFFFFF;\n",
              "      --disabled-bg-color: #3B4455;\n",
              "      --disabled-fill-color: #666;\n",
              "  }\n",
              "\n",
              "  .colab-df-quickchart {\n",
              "    background-color: var(--bg-color);\n",
              "    border: none;\n",
              "    border-radius: 50%;\n",
              "    cursor: pointer;\n",
              "    display: none;\n",
              "    fill: var(--fill-color);\n",
              "    height: 32px;\n",
              "    padding: 0;\n",
              "    width: 32px;\n",
              "  }\n",
              "\n",
              "  .colab-df-quickchart:hover {\n",
              "    background-color: var(--hover-bg-color);\n",
              "    box-shadow: 0 1px 2px rgba(60, 64, 67, 0.3), 0 1px 3px 1px rgba(60, 64, 67, 0.15);\n",
              "    fill: var(--button-hover-fill-color);\n",
              "  }\n",
              "\n",
              "  .colab-df-quickchart-complete:disabled,\n",
              "  .colab-df-quickchart-complete:disabled:hover {\n",
              "    background-color: var(--disabled-bg-color);\n",
              "    fill: var(--disabled-fill-color);\n",
              "    box-shadow: none;\n",
              "  }\n",
              "\n",
              "  .colab-df-spinner {\n",
              "    border: 2px solid var(--fill-color);\n",
              "    border-color: transparent;\n",
              "    border-bottom-color: var(--fill-color);\n",
              "    animation:\n",
              "      spin 1s steps(1) infinite;\n",
              "  }\n",
              "\n",
              "  @keyframes spin {\n",
              "    0% {\n",
              "      border-color: transparent;\n",
              "      border-bottom-color: var(--fill-color);\n",
              "      border-left-color: var(--fill-color);\n",
              "    }\n",
              "    20% {\n",
              "      border-color: transparent;\n",
              "      border-left-color: var(--fill-color);\n",
              "      border-top-color: var(--fill-color);\n",
              "    }\n",
              "    30% {\n",
              "      border-color: transparent;\n",
              "      border-left-color: var(--fill-color);\n",
              "      border-top-color: var(--fill-color);\n",
              "      border-right-color: var(--fill-color);\n",
              "    }\n",
              "    40% {\n",
              "      border-color: transparent;\n",
              "      border-right-color: var(--fill-color);\n",
              "      border-top-color: var(--fill-color);\n",
              "    }\n",
              "    60% {\n",
              "      border-color: transparent;\n",
              "      border-right-color: var(--fill-color);\n",
              "    }\n",
              "    80% {\n",
              "      border-color: transparent;\n",
              "      border-right-color: var(--fill-color);\n",
              "      border-bottom-color: var(--fill-color);\n",
              "    }\n",
              "    90% {\n",
              "      border-color: transparent;\n",
              "      border-bottom-color: var(--fill-color);\n",
              "    }\n",
              "  }\n",
              "</style>\n",
              "\n",
              "      <script>\n",
              "        async function quickchart(key) {\n",
              "          const quickchartButtonEl =\n",
              "            document.querySelector('#' + key + ' button');\n",
              "          quickchartButtonEl.disabled = true;  // To prevent multiple clicks.\n",
              "          quickchartButtonEl.classList.add('colab-df-spinner');\n",
              "          try {\n",
              "            const charts = await google.colab.kernel.invokeFunction(\n",
              "                'suggestCharts', [key], {});\n",
              "          } catch (error) {\n",
              "            console.error('Error during call to suggestCharts:', error);\n",
              "          }\n",
              "          quickchartButtonEl.classList.remove('colab-df-spinner');\n",
              "          quickchartButtonEl.classList.add('colab-df-quickchart-complete');\n",
              "        }\n",
              "        (() => {\n",
              "          let quickchartButtonEl =\n",
              "            document.querySelector('#df-89cf0145-f8ce-433a-a6c3-6d419e5000c8 button');\n",
              "          quickchartButtonEl.style.display =\n",
              "            google.colab.kernel.accessAllowed ? 'block' : 'none';\n",
              "        })();\n",
              "      </script>\n",
              "    </div>\n",
              "\n",
              "  <div id=\"id_b1601db5-3b73-41d3-b06a-40bf3caee6d5\">\n",
              "    <style>\n",
              "      .colab-df-generate {\n",
              "        background-color: #E8F0FE;\n",
              "        border: none;\n",
              "        border-radius: 50%;\n",
              "        cursor: pointer;\n",
              "        display: none;\n",
              "        fill: #1967D2;\n",
              "        height: 32px;\n",
              "        padding: 0 0 0 0;\n",
              "        width: 32px;\n",
              "      }\n",
              "\n",
              "      .colab-df-generate:hover {\n",
              "        background-color: #E2EBFA;\n",
              "        box-shadow: 0px 1px 2px rgba(60, 64, 67, 0.3), 0px 1px 3px 1px rgba(60, 64, 67, 0.15);\n",
              "        fill: #174EA6;\n",
              "      }\n",
              "\n",
              "      [theme=dark] .colab-df-generate {\n",
              "        background-color: #3B4455;\n",
              "        fill: #D2E3FC;\n",
              "      }\n",
              "\n",
              "      [theme=dark] .colab-df-generate:hover {\n",
              "        background-color: #434B5C;\n",
              "        box-shadow: 0px 1px 3px 1px rgba(0, 0, 0, 0.15);\n",
              "        filter: drop-shadow(0px 1px 2px rgba(0, 0, 0, 0.3));\n",
              "        fill: #FFFFFF;\n",
              "      }\n",
              "    </style>\n",
              "    <button class=\"colab-df-generate\" onclick=\"generateWithVariable('weight_df')\"\n",
              "            title=\"Generate code using this dataframe.\"\n",
              "            style=\"display:none;\">\n",
              "\n",
              "  <svg xmlns=\"http://www.w3.org/2000/svg\" height=\"24px\"viewBox=\"0 0 24 24\"\n",
              "       width=\"24px\">\n",
              "    <path d=\"M7,19H8.4L18.45,9,17,7.55,7,17.6ZM5,21V16.75L18.45,3.32a2,2,0,0,1,2.83,0l1.4,1.43a1.91,1.91,0,0,1,.58,1.4,1.91,1.91,0,0,1-.58,1.4L9.25,21ZM18.45,9,17,7.55Zm-12,3A5.31,5.31,0,0,0,4.9,8.1,5.31,5.31,0,0,0,1,6.5,5.31,5.31,0,0,0,4.9,4.9,5.31,5.31,0,0,0,6.5,1,5.31,5.31,0,0,0,8.1,4.9,5.31,5.31,0,0,0,12,6.5,5.46,5.46,0,0,0,6.5,12Z\"/>\n",
              "  </svg>\n",
              "    </button>\n",
              "    <script>\n",
              "      (() => {\n",
              "      const buttonEl =\n",
              "        document.querySelector('#id_b1601db5-3b73-41d3-b06a-40bf3caee6d5 button.colab-df-generate');\n",
              "      buttonEl.style.display =\n",
              "        google.colab.kernel.accessAllowed ? 'block' : 'none';\n",
              "\n",
              "      buttonEl.onclick = () => {\n",
              "        google.colab.notebook.generateWithVariable('weight_df');\n",
              "      }\n",
              "      })();\n",
              "    </script>\n",
              "  </div>\n",
              "\n",
              "    </div>\n",
              "  </div>\n"
            ],
            "application/vnd.google.colaboratory.intrinsic+json": {
              "type": "dataframe",
              "variable_name": "weight_df",
              "summary": "{\n  \"name\": \"weight_df\",\n  \"rows\": 15,\n  \"fields\": [\n    {\n      \"column\": \"weight_1\",\n      \"properties\": {\n        \"dtype\": \"number\",\n        \"std\": 7,\n        \"min\": 25,\n        \"max\": 50,\n        \"num_unique_values\": 12,\n        \"samples\": [\n          50,\n          45,\n          25\n        ],\n        \"semantic_type\": \"\",\n        \"description\": \"\"\n      }\n    },\n    {\n      \"column\": \"weight_2\",\n      \"properties\": {\n        \"dtype\": \"number\",\n        \"std\": 8.778704782414888,\n        \"min\": 18.32998270097532,\n        \"max\": 50.5066776896375,\n        \"num_unique_values\": 15,\n        \"samples\": [\n          42.05941215623022,\n          27.519014003317864,\n          30.579264570250306\n        ],\n        \"semantic_type\": \"\",\n        \"description\": \"\"\n      }\n    },\n    {\n      \"column\": \"weight_change\",\n      \"properties\": {\n        \"dtype\": \"number\",\n        \"std\": 5.224483523368411,\n        \"min\": -8.137980166653968,\n        \"max\": 6.36420881102206,\n        \"num_unique_values\": 15,\n        \"samples\": [\n          6.0594121562302234,\n          -2.4809859966821364,\n          5.579264570250306\n        ],\n        \"semantic_type\": \"\",\n        \"description\": \"\"\n      }\n    }\n  ]\n}"
            }
          },
          "metadata": {},
          "execution_count": 31
        }
      ]
    },
    {
      "cell_type": "code",
      "source": [
        "_,p_value=stats.ttest_rel(a=weight1,b=weight2)"
      ],
      "metadata": {
        "id": "-RfL4bsC8jMe"
      },
      "execution_count": null,
      "outputs": []
    },
    {
      "cell_type": "code",
      "source": [
        "p_value"
      ],
      "metadata": {
        "colab": {
          "base_uri": "https://localhost:8080/"
        },
        "id": "19qi2GM58wpN",
        "outputId": "2dd4366f-1e6c-48ef-8a16-95d7dea552b7"
      },
      "execution_count": null,
      "outputs": [
        {
          "output_type": "execute_result",
          "data": {
            "text/plain": [
              "np.float64(0.5732936534411279)"
            ]
          },
          "metadata": {},
          "execution_count": 33
        }
      ]
    },
    {
      "cell_type": "code",
      "source": [
        "if p_value < 0.05: # alpha value is 0.05 or 5%\n",
        "    print(\"we are rejecting null hypothesis so there is difinetly a difference between sample and population mean \")\n",
        "else:\n",
        "    print(\"we are accepting null hypothesis so there is difinetly no  difference between sample and population mean \")"
      ],
      "metadata": {
        "colab": {
          "base_uri": "https://localhost:8080/"
        },
        "id": "Kn6A2xuy8yfB",
        "outputId": "42bc11c5-e635-4d1a-be1c-e9ceec1f152f"
      },
      "execution_count": null,
      "outputs": [
        {
          "output_type": "stream",
          "name": "stdout",
          "text": [
            "we are accepting null hypothesis so there is difinetly no  difference between sample and population mean \n"
          ]
        }
      ]
    },
    {
      "cell_type": "code",
      "source": [],
      "metadata": {
        "id": "o6VAzt0R84CY"
      },
      "execution_count": null,
      "outputs": []
    }
  ]
}